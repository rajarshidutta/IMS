{
 "cells": [
  {
   "cell_type": "markdown",
   "id": "e7a0d7fd",
   "metadata": {},
   "source": [
    "# Signin"
   ]
  },
  {
   "cell_type": "code",
   "execution_count": 1,
   "id": "15b37156",
   "metadata": {},
   "outputs": [
    {
     "name": "stdout",
     "output_type": "stream",
     "text": [
      "Enter your full name : Raju Barman\n",
      "Enter username : Raju\n",
      "Enter your valid email : raju@gmail.com\n",
      "Enter Password : Raju0\n",
      "Repeat Passwd : Raju0\n"
     ]
    }
   ],
   "source": [
    "import json\n",
    "\n",
    "while(True):\n",
    "    name=input(\"Enter your full name : \")\n",
    "    username = input(\"Enter username : \")\n",
    "    email = input(\"Enter your valid email : \")\n",
    "    passwd = input(\"Enter Password : \")\n",
    "    rep_passwd = input(\"Repeat Passwd : \")\n",
    "    if(passwd==rep_passwd):\n",
    "        d={}\n",
    "        d[username]={'name':name,'email':email,'password':passwd}\n",
    "        d=json.dumps(d)\n",
    "        \n",
    "        fb=open(\"ClientInfo.json\",'a')\n",
    "        fb.write(d)\n",
    "        fb.close()\n",
    "        \n",
    "        break\n",
    "    \n",
    "    else:\n",
    "        print(\"Please enter your data carefully......\\n\")\n",
    "        \n",
    "\n"
   ]
  },
  {
   "cell_type": "code",
   "execution_count": 2,
   "id": "d73c09b8",
   "metadata": {},
   "outputs": [
    {
     "data": {
      "text/plain": [
       "'{\"Raju\": {\"name\": \"Raju Barman\", \"email\": \"raju@gmail.com\", \"password\": \"Raju0\"}}'"
      ]
     },
     "execution_count": 2,
     "metadata": {},
     "output_type": "execute_result"
    }
   ],
   "source": [
    "d"
   ]
  },
  {
   "cell_type": "code",
   "execution_count": null,
   "id": "df7a11e3",
   "metadata": {},
   "outputs": [],
   "source": []
  }
 ],
 "metadata": {
  "kernelspec": {
   "display_name": "Python 3",
   "language": "python",
   "name": "python3"
  },
  "language_info": {
   "codemirror_mode": {
    "name": "ipython",
    "version": 3
   },
   "file_extension": ".py",
   "mimetype": "text/x-python",
   "name": "python",
   "nbconvert_exporter": "python",
   "pygments_lexer": "ipython3",
   "version": "3.9.5"
  }
 },
 "nbformat": 4,
 "nbformat_minor": 5
}
