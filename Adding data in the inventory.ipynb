{
 "cells": [
  {
   "cell_type": "markdown",
   "id": "a3184ddc",
   "metadata": {},
   "source": [
    "# Reading Data from the Inventory"
   ]
  },
  {
   "cell_type": "code",
   "execution_count": 1,
   "id": "136526a2",
   "metadata": {},
   "outputs": [],
   "source": [
    "fb = open('Products.json','r')\n",
    "r=fb.read()\n",
    "fb.close()"
   ]
  },
  {
   "cell_type": "code",
   "execution_count": 2,
   "id": "097ac938",
   "metadata": {},
   "outputs": [
    {
     "data": {
      "text/plain": [
       "'{\"1001\": {\"Course\": \"Python for All\", \"Student enrolled\": 1000, \"Price\": 9800, \"Coupon code\": \"AXHALYMAN0\", \"Discount in percent\": 30, \"Author\": \"Rajarshi Dutta\", \"Level\": \"Beginner level\"}, \"1002\": {\"Course\": \"Microsoft Excel\", \"Student enrolled\": 9999, \"Price\": 5999, \"Coupon code\": \"Microsoftyep\", \"Discount in percent\": 50, \"Author\": \"Aman\", \"Level\": \"Beginner level\"}, \"1003\": {\"Course\": \"OOps in python\", \"Student enrolled\": 5000, \"Price\": 8999, \"Coupon code\": \"oppythoninexe\", \"Discount in percent\": 40, \"Author\": \"John\", \"Level\": \"Beginner level\"}, \"1004\": {\"Course\": \"Affilate Marketing tricks\", \"Student enrolled\": 4999, \"Price\": 4999, \"Coupon code\": \"affilatemxwd\", \"Discount in percent\": 100, \"Author\": \"Sohan\", \"Level\": \"Beginner level\"}}'"
      ]
     },
     "execution_count": 2,
     "metadata": {},
     "output_type": "execute_result"
    }
   ],
   "source": [
    "r"
   ]
  },
  {
   "cell_type": "code",
   "execution_count": 3,
   "id": "5e43eacd",
   "metadata": {},
   "outputs": [
    {
     "name": "stdout",
     "output_type": "stream",
     "text": [
      "{'1001': {'Course': 'Python for All', 'Student enrolled': 1000, 'Price': 9800, 'Coupon code': 'AXHALYMAN0', 'Discount in percent': 30, 'Author': 'Rajarshi Dutta', 'Level': 'Beginner level'}, '1002': {'Course': 'Microsoft Excel', 'Student enrolled': 9999, 'Price': 5999, 'Coupon code': 'Microsoftyep', 'Discount in percent': 50, 'Author': 'Aman', 'Level': 'Beginner level'}, '1003': {'Course': 'OOps in python', 'Student enrolled': 5000, 'Price': 8999, 'Coupon code': 'oppythoninexe', 'Discount in percent': 40, 'Author': 'John', 'Level': 'Beginner level'}, '1004': {'Course': 'Affilate Marketing tricks', 'Student enrolled': 4999, 'Price': 4999, 'Coupon code': 'affilatemxwd', 'Discount in percent': 100, 'Author': 'Sohan', 'Level': 'Beginner level'}}\n"
     ]
    }
   ],
   "source": [
    "import json\n",
    "r=json.loads(r)\n",
    "print(r)"
   ]
  },
  {
   "cell_type": "markdown",
   "id": "578d305e",
   "metadata": {},
   "source": [
    "# Adding new item to the Inventory"
   ]
  },
  {
   "cell_type": "code",
   "execution_count": 4,
   "id": "1a0ff22e",
   "metadata": {},
   "outputs": [
    {
     "name": "stdout",
     "output_type": "stream",
     "text": [
      "No. of courses you want to add  : 1\n",
      "Enter course name : C language\n",
      "Enter no. of student enrolled : 8000\n",
      "Enter the price : 8500\n",
      "Enter your secret coupon code : cophelpinbegin\n",
      "Enter percent of discount : 40\n",
      "Enter the name of the Author : Rituraj\n",
      "Enter the level of course : Beginner level\n",
      "Enter course ID of four digit : 1005\n"
     ]
    }
   ],
   "source": [
    "No_of_courses_available = int(input('No. of courses you want to add  : '))\n",
    "for i in range(No_of_courses_available):\n",
    "    course=input(\"Enter course name : \")\n",
    "    std=int(input(\"Enter no. of student enrolled : \"))\n",
    "    price = int(input(\"Enter the price : \"))\n",
    "    cp_code=input(\"Enter your secret coupon code : \")\n",
    "    ds=int(input(\"Enter percent of discount : \"))\n",
    "    author = input(\"Enter the name of the Author : \")\n",
    "    level=input(\"Enter the level of course : \")\n",
    "    i_d=int(input(\"Enter course ID of four digit : \"))\n",
    "    r[i_d]={'Course':course,'Student enrolled':std,'Price':price,'Coupon code':cp_code,'Discount in percent':ds,'Author':author,'Level':level,}"
   ]
  },
  {
   "cell_type": "code",
   "execution_count": 5,
   "id": "305545f1",
   "metadata": {},
   "outputs": [
    {
     "data": {
      "text/plain": [
       "{'1001': {'Course': 'Python for All',\n",
       "  'Student enrolled': 1000,\n",
       "  'Price': 9800,\n",
       "  'Coupon code': 'AXHALYMAN0',\n",
       "  'Discount in percent': 30,\n",
       "  'Author': 'Rajarshi Dutta',\n",
       "  'Level': 'Beginner level'},\n",
       " '1002': {'Course': 'Microsoft Excel',\n",
       "  'Student enrolled': 9999,\n",
       "  'Price': 5999,\n",
       "  'Coupon code': 'Microsoftyep',\n",
       "  'Discount in percent': 50,\n",
       "  'Author': 'Aman',\n",
       "  'Level': 'Beginner level'},\n",
       " '1003': {'Course': 'OOps in python',\n",
       "  'Student enrolled': 5000,\n",
       "  'Price': 8999,\n",
       "  'Coupon code': 'oppythoninexe',\n",
       "  'Discount in percent': 40,\n",
       "  'Author': 'John',\n",
       "  'Level': 'Beginner level'},\n",
       " '1004': {'Course': 'Affilate Marketing tricks',\n",
       "  'Student enrolled': 4999,\n",
       "  'Price': 4999,\n",
       "  'Coupon code': 'affilatemxwd',\n",
       "  'Discount in percent': 100,\n",
       "  'Author': 'Sohan',\n",
       "  'Level': 'Beginner level'},\n",
       " 1005: {'Course': 'C language',\n",
       "  'Student enrolled': 8000,\n",
       "  'Price': 8500,\n",
       "  'Coupon code': 'cophelpinbegin',\n",
       "  'Discount in percent': 40,\n",
       "  'Author': 'Rituraj',\n",
       "  'Level': 'Beginner level'}}"
      ]
     },
     "execution_count": 5,
     "metadata": {},
     "output_type": "execute_result"
    }
   ],
   "source": [
    "r"
   ]
  },
  {
   "cell_type": "code",
   "execution_count": 6,
   "id": "909c9aed",
   "metadata": {},
   "outputs": [],
   "source": [
    "r=json.dumps(r)\n",
    "fb=open('Products.json','w')\n",
    "fb.write(r)\n",
    "fb.close()"
   ]
  },
  {
   "cell_type": "code",
   "execution_count": null,
   "id": "a7e795b3",
   "metadata": {},
   "outputs": [],
   "source": []
  }
 ],
 "metadata": {
  "kernelspec": {
   "display_name": "Python 3",
   "language": "python",
   "name": "python3"
  },
  "language_info": {
   "codemirror_mode": {
    "name": "ipython",
    "version": 3
   },
   "file_extension": ".py",
   "mimetype": "text/x-python",
   "name": "python",
   "nbconvert_exporter": "python",
   "pygments_lexer": "ipython3",
   "version": "3.9.5"
  }
 },
 "nbformat": 4,
 "nbformat_minor": 5
}
