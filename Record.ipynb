{
 "cells": [
  {
   "cell_type": "code",
   "execution_count": 1,
   "id": "d9a233bc",
   "metadata": {},
   "outputs": [],
   "source": [
    "courses = {1001:{'Course':'Python for All','Student enrolled':1000,'Price':9800,'Coupon code':'AXHALYMAN0','Discount in percent':30,'Author':\"Rajarshi Dutta\",'Level':'Beginner level'}}\n",
    "            "
   ]
  },
  {
   "cell_type": "code",
   "execution_count": 2,
   "id": "d3cacec5",
   "metadata": {},
   "outputs": [
    {
     "data": {
      "text/plain": [
       "{1001: {'Course': 'Python for All',\n",
       "  'Student enrolled': 1000,\n",
       "  'Price': 9800,\n",
       "  'Coupon code': 'AXHALYMAN0',\n",
       "  'Discount in percent': 30,\n",
       "  'Author': 'Rajarshi Dutta',\n",
       "  'Level': 'Beginner level'}}"
      ]
     },
     "execution_count": 2,
     "metadata": {},
     "output_type": "execute_result"
    }
   ],
   "source": [
    "courses"
   ]
  },
  {
   "cell_type": "code",
   "execution_count": 3,
   "id": "c4c94c3c",
   "metadata": {},
   "outputs": [
    {
     "name": "stdout",
     "output_type": "stream",
     "text": [
      "No. of courses available to you  : 3\n",
      "Enter course name : Microsoft Excel\n",
      "Enter no. of student enrolled : 9999\n",
      "Enter the price : 5999\n",
      "Enter your secret coupon code : Microsoftyep\n",
      "Enter percent of discount : 50\n",
      "Enter the name of the Author : Aman\n",
      "Enter the level of course : Beginner level\n",
      "Enter course ID of four digit : 1002\n",
      "Enter course name : OOps in python\n",
      "Enter no. of student enrolled : 5000\n",
      "Enter the price : 8999\n",
      "Enter your secret coupon code : oppythoninexe\n",
      "Enter percent of discount : 40\n",
      "Enter the name of the Author : John\n",
      "Enter the level of course : Beginner level\n",
      "Enter course ID of four digit : 1003\n",
      "Enter course name : Affilate Marketing tricks\n",
      "Enter no. of student enrolled : 4999\n",
      "Enter the price : 4999\n",
      "Enter your secret coupon code : affilatemxwd\n",
      "Enter percent of discount : 100\n",
      "Enter the name of the Author : Sohan\n",
      "Enter the level of course : Beginner level\n",
      "Enter course ID of four digit : 1004\n"
     ]
    }
   ],
   "source": [
    "# From point of view of server\n",
    "No_of_courses_available = int(input('No. of courses available to you  : '))\n",
    "for i in range(No_of_courses_available):\n",
    "    course=input(\"Enter course name : \")\n",
    "    std=int(input(\"Enter no. of student enrolled : \"))\n",
    "    price = int(input(\"Enter the price : \"))\n",
    "    cp_code=input(\"Enter your secret coupon code : \")\n",
    "    ds=int(input(\"Enter percent of discount : \"))\n",
    "    author = input(\"Enter the name of the Author : \")\n",
    "    level=input(\"Enter the level of course : \")\n",
    "    i_d=int(input(\"Enter course ID of four digit : \"))\n",
    "    courses[i_d]={'Course':course,'Student enrolled':std,'Price':price,'Coupon code':cp_code,'Discount in percent':ds,'Author':author,'Level':level,}"
   ]
  },
  {
   "cell_type": "code",
   "execution_count": 4,
   "id": "26b1520d",
   "metadata": {},
   "outputs": [
    {
     "data": {
      "text/plain": [
       "{1001: {'Course': 'Python for All',\n",
       "  'Student enrolled': 1000,\n",
       "  'Price': 9800,\n",
       "  'Coupon code': 'AXHALYMAN0',\n",
       "  'Discount in percent': 30,\n",
       "  'Author': 'Rajarshi Dutta',\n",
       "  'Level': 'Beginner level'},\n",
       " 1002: {'Course': 'Microsoft Excel',\n",
       "  'Student enrolled': 9999,\n",
       "  'Price': 5999,\n",
       "  'Coupon code': 'Microsoftyep',\n",
       "  'Discount in percent': 50,\n",
       "  'Author': 'Aman',\n",
       "  'Level': 'Beginner level'},\n",
       " 1003: {'Course': 'OOps in python',\n",
       "  'Student enrolled': 5000,\n",
       "  'Price': 8999,\n",
       "  'Coupon code': 'oppythoninexe',\n",
       "  'Discount in percent': 40,\n",
       "  'Author': 'John',\n",
       "  'Level': 'Beginner level'},\n",
       " 1004: {'Course': 'Affilate Marketing tricks',\n",
       "  'Student enrolled': 4999,\n",
       "  'Price': 4999,\n",
       "  'Coupon code': 'affilatemxwd',\n",
       "  'Discount in percent': 100,\n",
       "  'Author': 'Sohan',\n",
       "  'Level': 'Beginner level'}}"
      ]
     },
     "execution_count": 4,
     "metadata": {},
     "output_type": "execute_result"
    }
   ],
   "source": [
    "courses"
   ]
  },
  {
   "cell_type": "code",
   "execution_count": 5,
   "id": "becaa5ad",
   "metadata": {},
   "outputs": [],
   "source": [
    "import json\n",
    "\n",
    "c=json.dumps(courses)\n",
    "\n",
    "fb=open('Products.json','w')\n",
    "\n",
    "fb.write(c)\n",
    "\n",
    "fb.close()\n"
   ]
  },
  {
   "cell_type": "code",
   "execution_count": 6,
   "id": "f408da2c",
   "metadata": {},
   "outputs": [
    {
     "data": {
      "text/plain": [
       "str"
      ]
     },
     "execution_count": 6,
     "metadata": {},
     "output_type": "execute_result"
    }
   ],
   "source": [
    "type(c)"
   ]
  },
  {
   "cell_type": "code",
   "execution_count": null,
   "id": "226ef773",
   "metadata": {},
   "outputs": [],
   "source": []
  }
 ],
 "metadata": {
  "kernelspec": {
   "display_name": "Python 3",
   "language": "python",
   "name": "python3"
  },
  "language_info": {
   "codemirror_mode": {
    "name": "ipython",
    "version": 3
   },
   "file_extension": ".py",
   "mimetype": "text/x-python",
   "name": "python",
   "nbconvert_exporter": "python",
   "pygments_lexer": "ipython3",
   "version": "3.9.5"
  }
 },
 "nbformat": 4,
 "nbformat_minor": 5
}
