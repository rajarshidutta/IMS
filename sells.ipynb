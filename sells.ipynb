{
 "cells": [
  {
   "cell_type": "markdown",
   "id": "59823c2d",
   "metadata": {},
   "source": [
    "# Reading Inventory"
   ]
  },
  {
   "cell_type": "code",
   "execution_count": 1,
   "id": "69908baa",
   "metadata": {},
   "outputs": [],
   "source": [
    "import json\n",
    "\n",
    "fb=open('Products.json','r')\n",
    "r=fb.read()\n",
    "fb.close()\n",
    "\n",
    "r=json.loads(r)\n"
   ]
  },
  {
   "cell_type": "code",
   "execution_count": 2,
   "id": "9fa996fe",
   "metadata": {},
   "outputs": [
    {
     "data": {
      "text/plain": [
       "{'1001': {'Course': 'Python for All',\n",
       "  'Student enrolled': 1000,\n",
       "  'Price': 9800,\n",
       "  'Coupon code': 'AXHALYMAN0',\n",
       "  'Discount in percent': 30,\n",
       "  'Author': 'Rajarshi Dutta',\n",
       "  'Level': 'Beginner level'},\n",
       " '1002': {'Course': 'Microsoft Excel',\n",
       "  'Student enrolled': 9999,\n",
       "  'Price': 5999,\n",
       "  'Coupon code': 'Microsoftyep',\n",
       "  'Discount in percent': 50,\n",
       "  'Author': 'Aman',\n",
       "  'Level': 'Beginner level'},\n",
       " '1003': {'Course': 'OOps in python',\n",
       "  'Student enrolled': 5000,\n",
       "  'Price': 8999,\n",
       "  'Coupon code': 'oppythoninexe',\n",
       "  'Discount in percent': 40,\n",
       "  'Author': 'John',\n",
       "  'Level': 'Beginner level'},\n",
       " '1004': {'Course': 'Affilate Marketing tricks',\n",
       "  'Student enrolled': 4999,\n",
       "  'Price': 4999,\n",
       "  'Coupon code': 'affilatemxwd',\n",
       "  'Discount in percent': 100,\n",
       "  'Author': 'Sohan',\n",
       "  'Level': 'Beginner level'},\n",
       " '1005': {'Course': 'C language',\n",
       "  'Student enrolled': 8000,\n",
       "  'Price': 8500,\n",
       "  'Coupon code': 'cophelpinbegin',\n",
       "  'Discount in percent': 40,\n",
       "  'Author': 'Rituraj',\n",
       "  'Level': 'Beginner level'}}"
      ]
     },
     "execution_count": 2,
     "metadata": {},
     "output_type": "execute_result"
    }
   ],
   "source": [
    "r"
   ]
  },
  {
   "cell_type": "markdown",
   "id": "05ddc0c2",
   "metadata": {},
   "source": [
    "# Login"
   ]
  },
  {
   "cell_type": "code",
   "execution_count": 3,
   "id": "418104f2",
   "metadata": {},
   "outputs": [],
   "source": [
    "fb=open('ClientInfo.json','r')\n",
    "data=fb.read()\n",
    "fb.close()"
   ]
  },
  {
   "cell_type": "code",
   "execution_count": 4,
   "id": "d112fad1",
   "metadata": {},
   "outputs": [],
   "source": [
    "import json\n",
    "data=json.loads(data)"
   ]
  },
  {
   "cell_type": "code",
   "execution_count": 5,
   "id": "b68c4b8e",
   "metadata": {},
   "outputs": [
    {
     "name": "stdout",
     "output_type": "stream",
     "text": [
      "{'Raju': {'name': 'Raju Barman', 'email': 'raju@gmail.com', 'password': 'Raju0'}}\n"
     ]
    }
   ],
   "source": [
    "print(data)"
   ]
  },
  {
   "cell_type": "code",
   "execution_count": 6,
   "id": "613c02da",
   "metadata": {},
   "outputs": [
    {
     "name": "stdout",
     "output_type": "stream",
     "text": [
      "Enter your username : xyz\n",
      "Enter your password : bgahsld\n",
      "Enter your username and password carefully....\n",
      "\n",
      "Enter your username : Raju\n",
      "Enter your password : Raju0\n",
      "Welcome....\n",
      "Buy any course of your choice and enjoy your learning : ) \n",
      "\n"
     ]
    }
   ],
   "source": [
    "while(True):\n",
    "    u_name=input(\"Enter your username : \")\n",
    "    passwd=input(\"Enter your password : \")\n",
    "    flag=0\n",
    "    for key in data.keys():\n",
    "        if(u_name==key and passwd==data[u_name]['password']):\n",
    "            print(\"Welcome....\\nBuy any course of your choice and enjoy your learning : ) \\n\")\n",
    "            flag=1\n",
    "            break\n",
    "    if(flag==0):\n",
    "        print(\"Enter your username and password carefully....\\n\")\n",
    "    if(flag==1):\n",
    "        break"
   ]
  },
  {
   "cell_type": "markdown",
   "id": "9d2a328e",
   "metadata": {},
   "source": [
    "# Purchase"
   ]
  },
  {
   "cell_type": "code",
   "execution_count": 7,
   "id": "8cadfc63",
   "metadata": {},
   "outputs": [
    {
     "name": "stdout",
     "output_type": "stream",
     "text": [
      "Enter the course you want to purchase : Python for All\n",
      "Enter course id : 1001\n",
      "Course : Python for All\n",
      "Course level : Beginner level\n",
      "Guider/Author : Rajarshi Dutta\n",
      "Do you have any coupon code (optional) if yes then enter your coopon code else enter No : AXHALYMAN0\n",
      "Price : 6860.0\n"
     ]
    }
   ],
   "source": [
    "c=input(\"Enter the course you want to purchase : \")\n",
    "i_d=input(\"Enter course id : \")\n",
    "sell={}\n",
    "for key in r.keys():\n",
    "    if(key==i_d):\n",
    "        r[i_d]['Student enrolled']+=1 \n",
    "        print(\"Course :\",r[key]['Course'])\n",
    "        print(\"Course level :\",r[key]['Level'])\n",
    "        print(\"Guider/Author :\",r[key]['Author'])\n",
    "        is_coupon=input(\"Do you have any coupon code (optional) if yes then enter your coopon code else enter No : \")\n",
    "        if(is_coupon==r[key]['Coupon code']):\n",
    "            r[key]['Price']=r[key]['Price']-((r[key]['Discount in percent'])/100)*r[key]['Price']\n",
    "            print(\"Price :\",r[key]['Price'])\n",
    "        else:\n",
    "            print(\"Price :\",r[key]['Price'])\n",
    "          \n",
    "        sell[u_name]={'Course':r[key]['Course'],'Profit':r[key]['Price']}\n",
    "            \n",
    "        break\n"
   ]
  },
  {
   "cell_type": "code",
   "execution_count": 8,
   "id": "a820dacd",
   "metadata": {},
   "outputs": [
    {
     "data": {
      "text/plain": [
       "{'1001': {'Course': 'Python for All',\n",
       "  'Student enrolled': 1001,\n",
       "  'Price': 6860.0,\n",
       "  'Coupon code': 'AXHALYMAN0',\n",
       "  'Discount in percent': 30,\n",
       "  'Author': 'Rajarshi Dutta',\n",
       "  'Level': 'Beginner level'},\n",
       " '1002': {'Course': 'Microsoft Excel',\n",
       "  'Student enrolled': 9999,\n",
       "  'Price': 5999,\n",
       "  'Coupon code': 'Microsoftyep',\n",
       "  'Discount in percent': 50,\n",
       "  'Author': 'Aman',\n",
       "  'Level': 'Beginner level'},\n",
       " '1003': {'Course': 'OOps in python',\n",
       "  'Student enrolled': 5000,\n",
       "  'Price': 8999,\n",
       "  'Coupon code': 'oppythoninexe',\n",
       "  'Discount in percent': 40,\n",
       "  'Author': 'John',\n",
       "  'Level': 'Beginner level'},\n",
       " '1004': {'Course': 'Affilate Marketing tricks',\n",
       "  'Student enrolled': 4999,\n",
       "  'Price': 4999,\n",
       "  'Coupon code': 'affilatemxwd',\n",
       "  'Discount in percent': 100,\n",
       "  'Author': 'Sohan',\n",
       "  'Level': 'Beginner level'},\n",
       " '1005': {'Course': 'C language',\n",
       "  'Student enrolled': 8000,\n",
       "  'Price': 8500,\n",
       "  'Coupon code': 'cophelpinbegin',\n",
       "  'Discount in percent': 40,\n",
       "  'Author': 'Rituraj',\n",
       "  'Level': 'Beginner level'}}"
      ]
     },
     "execution_count": 8,
     "metadata": {},
     "output_type": "execute_result"
    }
   ],
   "source": [
    "r"
   ]
  },
  {
   "cell_type": "markdown",
   "id": "4e5a4796",
   "metadata": {},
   "source": [
    "# Updating the inventory"
   ]
  },
  {
   "cell_type": "code",
   "execution_count": 9,
   "id": "3e7ea4a5",
   "metadata": {},
   "outputs": [],
   "source": [
    "import json\n",
    "\n",
    "r=json.dumps(r)\n",
    "\n"
   ]
  },
  {
   "cell_type": "code",
   "execution_count": 10,
   "id": "84c4bc6c",
   "metadata": {},
   "outputs": [],
   "source": [
    "fb=open('Products.json','w')\n",
    "fb.write(r)\n",
    "fb.close()"
   ]
  },
  {
   "cell_type": "markdown",
   "id": "a95d9ed3",
   "metadata": {},
   "source": [
    "## Record of sells on a particular day"
   ]
  },
  {
   "cell_type": "code",
   "execution_count": 11,
   "id": "c8b2d909",
   "metadata": {},
   "outputs": [],
   "source": [
    "import json\n",
    "\n",
    "sell=json.dumps(sell)\n",
    "\n"
   ]
  },
  {
   "cell_type": "code",
   "execution_count": 12,
   "id": "50f8cca9",
   "metadata": {},
   "outputs": [],
   "source": [
    "fb=open('Sells.json','a')\n",
    "fb.write(sell)\n",
    "fb.close()"
   ]
  },
  {
   "cell_type": "code",
   "execution_count": null,
   "id": "2bf65ab8",
   "metadata": {},
   "outputs": [],
   "source": []
  }
 ],
 "metadata": {
  "kernelspec": {
   "display_name": "Python 3",
   "language": "python",
   "name": "python3"
  },
  "language_info": {
   "codemirror_mode": {
    "name": "ipython",
    "version": 3
   },
   "file_extension": ".py",
   "mimetype": "text/x-python",
   "name": "python",
   "nbconvert_exporter": "python",
   "pygments_lexer": "ipython3",
   "version": "3.9.5"
  }
 },
 "nbformat": 4,
 "nbformat_minor": 5
}
